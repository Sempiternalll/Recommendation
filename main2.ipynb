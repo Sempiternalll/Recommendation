{
 "cells": [
  {
   "cell_type": "code",
   "execution_count": 1,
   "metadata": {},
   "outputs": [
    {
     "data": {
      "text/plain": [
       "array([[4. , 0. , 4. , ..., 0. , 0. , 0. ],\n",
       "       [0. , 0. , 0. , ..., 0. , 0. , 0. ],\n",
       "       [0. , 0. , 0. , ..., 0. , 0. , 0. ],\n",
       "       ...,\n",
       "       [2.5, 2. , 2. , ..., 0. , 0. , 0. ],\n",
       "       [3. , 0. , 0. , ..., 0. , 0. , 0. ],\n",
       "       [5. , 0. , 0. , ..., 0. , 0. , 0. ]])"
      ]
     },
     "execution_count": 1,
     "metadata": {},
     "output_type": "execute_result"
    }
   ],
   "source": [
    "import numpy as np\n",
    "import pandas as pd\n",
    "S0 = np.loadtxt('S0.txt')\n",
    "S0 = np.array(S0)\n",
    "S0"
   ]
  },
  {
   "cell_type": "code",
   "execution_count": 2,
   "metadata": {},
   "outputs": [
    {
     "data": {
      "text/plain": [
       "array([[3454.5 ,  896.5 ,  430.75, ...,    0.  ,    0.  ,    0.  ],\n",
       "       [ 896.5 , 1380.25,  259.  , ...,    0.  ,    0.  ,    0.  ],\n",
       "       [ 430.75,  259.  ,  609.25, ...,    0.  ,    0.  ,    0.  ],\n",
       "       ...,\n",
       "       [   0.  ,    0.  ,    0.  , ...,   12.25,   12.25,    0.  ],\n",
       "       [   0.  ,    0.  ,    0.  , ...,   12.25,   12.25,    0.  ],\n",
       "       [   0.  ,    0.  ,    0.  , ...,    0.  ,    0.  ,   16.  ]])"
      ]
     },
     "execution_count": 2,
     "metadata": {},
     "output_type": "execute_result"
    }
   ],
   "source": [
    "STS = np.dot(S0.T, S0)\n",
    "STS"
   ]
  },
  {
   "cell_type": "code",
   "execution_count": 3,
   "metadata": {},
   "outputs": [],
   "source": [
    "def power_iteration_eigen(matrix, num_iterations=1000, tolerance=1e-10):\n",
    "    n, _ = matrix.shape\n",
    "    x = np.random.rand(n)\n",
    "    x = x / np.linalg.norm(x)\n",
    "    for _ in range(num_iterations):\n",
    "        x_new = np.dot(matrix, x)\n",
    "        eigenvalue = np.dot(x, x_new)\n",
    "        x_new = x_new / np.linalg.norm(x_new)\n",
    "        if np.linalg.norm(x - x_new) < tolerance:\n",
    "            break\n",
    "        x = x_new\n",
    "    return eigenvalue, x\n",
    "\n",
    "def eigenvalues_and_eigenvectors(matrix, num_iterations=10, tolerance=1e-3):\n",
    "    eigenvalues = []\n",
    "    eigenvectors = []\n",
    "    for _ in range(40):\n",
    "        eigenvalue, eigenvector = power_iteration_eigen(matrix, num_iterations, tolerance)\n",
    "        if eigenvalue > 1:\n",
    "            eigenvalues.append(eigenvalue)\n",
    "            eigenvectors.append(eigenvector)\n",
    "            matrix = matrix - eigenvalue * np.outer(eigenvector, eigenvector)\n",
    "    return eigenvalues, eigenvectors\n",
    "\n",
    "def svd(matrix, covariance_matrix):\n",
    "    eigenvalues, eigenvectors = eigenvalues_and_eigenvectors(covariance_matrix)\n",
    "    eigenvalues = np.array(eigenvalues)\n",
    "    eigenvectors = np.array(eigenvectors)\n",
    "    eigenvalues = np.sort(eigenvalues)[::-1]\n",
    "    singular_values = np.sqrt(eigenvalues)\n",
    "    right_singular_vectors = eigenvectors\n",
    "    left_singular_vectors = np.dot(right_singular_vectors, matrix.T).T / singular_values\n",
    "    return left_singular_vectors, np.diag(singular_values), right_singular_vectors\n",
    "U, S, VT = svd(S0, STS)"
   ]
  },
  {
   "cell_type": "code",
   "execution_count": 38,
   "metadata": {},
   "outputs": [
    {
     "name": "stdout",
     "output_type": "stream",
     "text": [
      "Shawshank Redemption, The (1994)\n",
      "Star Wars: Episode IV - A New Hope (1977)\n",
      "Silence of the Lambs, The (1991)\n",
      "Star Wars: Episode V - The Empire Strikes Back (1980)\n",
      "Inception (2010)\n",
      "Raiders of the Lost Ark (Indiana Jones and the Raiders of the Lost Ark) (1981)\n",
      "Pirates of the Caribbean: The Curse of the Black Pearl (2003)\n",
      "Schindler's List (1993)\n",
      "Memento (2000)\n"
     ]
    }
   ],
   "source": [
    "def cosine_similarity(vec1, vec2):\n",
    "    magnitude = np.linalg.norm(vec1) * np.linalg.norm(vec2)\n",
    "    if magnitude == 0:\n",
    "        return 0  # Avoid division by zero\n",
    "    return np.dot(vec1, vec2) / magnitude\n",
    "\n",
    "def recommend_movies(user_id, compressed_matrix, ratings_matrix):\n",
    "    user_ratings = ratings_matrix[user_id]\n",
    "    similarities = []\n",
    "    for i in range(len(ratings_matrix)):\n",
    "        if i != user_id:\n",
    "            similarity = cosine_similarity(user_ratings, ratings_matrix[i])\n",
    "            similarities.append((i, similarity))\n",
    "    \n",
    "    similarities.sort(key=lambda x: x[1], reverse=True)  # Sort by decreasing similarity\n",
    "    \n",
    "    recommended_movies = []\n",
    "    for movie_index in range(len(ratings_matrix[user_id])):\n",
    "        if user_ratings[movie_index] == 0:\n",
    "            score = 0\n",
    "            for similar_user_id, similarity in similarities:\n",
    "                score += similarity * ratings_matrix[similar_user_id][movie_index]\n",
    "            recommended_movies.append((movie_index, score))\n",
    "\n",
    "    recommended_movies.sort(key=lambda x: x[1], reverse=True)  # Sort by decreasing score\n",
    "\n",
    "    return recommended_movies, similarities\n",
    "\n",
    "\n",
    "user_id = input('enter the user id')\n",
    "number = input('enter the number of movies you want to be recommended')\n",
    "number = int(number)\n",
    "user_id = int(user_id)\n",
    "recommended_movies, similarities = recommend_movies(user_id, user_ratings_est, S0)\n",
    "df = pd.read_csv('movies.csv')\n",
    "\n",
    "for tuple in recommended_movies[:number]:\n",
    "    print(df.at[tuple[0], 'title'])\n"
   ]
  }
 ],
 "metadata": {
  "kernelspec": {
   "display_name": "Python 3",
   "language": "python",
   "name": "python3"
  },
  "language_info": {
   "codemirror_mode": {
    "name": "ipython",
    "version": 3
   },
   "file_extension": ".py",
   "mimetype": "text/x-python",
   "name": "python",
   "nbconvert_exporter": "python",
   "pygments_lexer": "ipython3",
   "version": "3.12.1"
  },
  "orig_nbformat": 4
 },
 "nbformat": 4,
 "nbformat_minor": 2
}
